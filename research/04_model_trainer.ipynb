{
 "cells": [
  {
   "cell_type": "code",
   "execution_count": 1,
   "metadata": {
    "collapsed": true,
    "ExecuteTime": {
     "end_time": "2024-07-09T08:44:22.355918Z",
     "start_time": "2024-07-09T08:44:22.353346Z"
    }
   },
   "outputs": [],
   "source": [
    "import os"
   ]
  },
  {
   "cell_type": "code",
   "execution_count": 2,
   "outputs": [],
   "source": [
    "os.chdir('../')"
   ],
   "metadata": {
    "collapsed": false,
    "ExecuteTime": {
     "end_time": "2024-07-09T08:44:28.894378Z",
     "start_time": "2024-07-09T08:44:28.892154Z"
    }
   }
  },
  {
   "cell_type": "code",
   "execution_count": 28,
   "outputs": [],
   "source": [
    "from dataclasses import dataclass\n",
    "from pathlib import Path\n",
    "\n",
    "@dataclass(frozen=True)\n",
    "class ModelTrainerConfig:\n",
    "    root_dir: Path\n",
    "    data_path: Path\n",
    "    model_name: str\n",
    "    gamma: float\n",
    "    C: float"
   ],
   "metadata": {
    "collapsed": false,
    "ExecuteTime": {
     "end_time": "2024-07-09T09:26:03.706345Z",
     "start_time": "2024-07-09T09:26:03.703449Z"
    }
   }
  },
  {
   "cell_type": "code",
   "execution_count": 29,
   "outputs": [],
   "source": [
    "from mlProject.constants import *\n",
    "from mlProject.utils.common import read_yaml, create_directories"
   ],
   "metadata": {
    "collapsed": false,
    "ExecuteTime": {
     "end_time": "2024-07-09T09:26:04.067348Z",
     "start_time": "2024-07-09T09:26:04.063080Z"
    }
   }
  },
  {
   "cell_type": "code",
   "execution_count": 30,
   "outputs": [],
   "source": [
    "class ConfigurationManager:\n",
    "    def __init__(\n",
    "            self,\n",
    "            config_filepath = CONFIG_FILE_PATH,\n",
    "            params_filepath = PARAMS_FILE_PATH,\n",
    "            schema_filepath = SCHEMA_FILE_PATH):\n",
    "\n",
    "        self.config = read_yaml(config_filepath)\n",
    "        self.params = read_yaml(params_filepath)\n",
    "        self.schema = read_yaml(schema_filepath)\n",
    "\n",
    "        create_directories([self.config.artifacts_root])\n",
    "\n",
    "    def get_model_trainer_config(self) -> ModelTrainerConfig:\n",
    "        config = self.config.model_trainer\n",
    "        params = self.params.SVC\n",
    "\n",
    "        create_directories([config.root_dir])\n",
    "\n",
    "        model_trainer_config = ModelTrainerConfig(\n",
    "            root_dir=config.root_dir,\n",
    "            data_path=config.data_path,\n",
    "            model_name=config.model_name,\n",
    "            gamma=params.gamma,\n",
    "            C=params.C\n",
    "        )\n",
    "\n",
    "        return model_trainer_config"
   ],
   "metadata": {
    "collapsed": false,
    "ExecuteTime": {
     "end_time": "2024-07-09T09:26:04.421510Z",
     "start_time": "2024-07-09T09:26:04.416222Z"
    }
   }
  },
  {
   "cell_type": "code",
   "execution_count": 31,
   "outputs": [],
   "source": [
    "import pandas as pd\n",
    "import os\n",
    "import joblib\n",
    "from sklearn.svm import SVC"
   ],
   "metadata": {
    "collapsed": false,
    "ExecuteTime": {
     "end_time": "2024-07-09T09:26:04.855430Z",
     "start_time": "2024-07-09T09:26:04.852962Z"
    }
   }
  },
  {
   "cell_type": "code",
   "execution_count": 32,
   "outputs": [],
   "source": [
    "class ModelTrainer:\n",
    "    def __init__(self, config: ModelTrainerConfig):\n",
    "        self.config = config\n",
    "\n",
    "    def train(self):\n",
    "        X_train = pd.read_csv(os.path.join(self.config.data_path, 'x_train.csv'))\n",
    "        y_train = pd.read_csv(os.path.join(self.config.data_path, 'y_train.csv'))\n",
    "\n",
    "        svc = SVC(gamma=0.1, C=10, random_state=42)\n",
    "\n",
    "        svc.fit(X_train, y_train)\n",
    "        joblib.dump(\n",
    "            svc,\n",
    "            os.path.join(\n",
    "                self.config.root_dir,\n",
    "                self.config.model_name\n",
    "            )\n",
    "        )"
   ],
   "metadata": {
    "collapsed": false,
    "ExecuteTime": {
     "end_time": "2024-07-09T09:26:05.311064Z",
     "start_time": "2024-07-09T09:26:05.308326Z"
    }
   }
  },
  {
   "cell_type": "code",
   "execution_count": 33,
   "outputs": [
    {
     "name": "stdout",
     "output_type": "stream",
     "text": [
      "[2024-07-09 11:26:06,869: INFO: common: yaml file: config/config.yaml loaded successfully]\n",
      "[2024-07-09 11:26:06,871: INFO: common: yaml file: params.yaml loaded successfully]\n",
      "[2024-07-09 11:26:06,873: INFO: common: yaml file: schema.yaml loaded successfully]\n",
      "[2024-07-09 11:26:06,874: INFO: common: created directory at: artifacts]\n",
      "[2024-07-09 11:26:06,875: INFO: common: created directory at: artifacts/model_training]\n"
     ]
    },
    {
     "name": "stderr",
     "output_type": "stream",
     "text": [
      "/Users/ivanosipchyk/dev/studies/end-to-end-ml-project/venv/lib/python3.11/site-packages/sklearn/utils/validation.py:1339: DataConversionWarning: A column-vector y was passed when a 1d array was expected. Please change the shape of y to (n_samples, ), for example using ravel().\n",
      "  y = column_or_1d(y, warn=True)\n"
     ]
    }
   ],
   "source": [
    "try:\n",
    "    config = ConfigurationManager()\n",
    "    model_trainer_config = config.get_model_trainer_config()\n",
    "    model_trainer = ModelTrainer(config=model_trainer_config)\n",
    "    model_trainer.train()\n",
    "except Exception as e:\n",
    "    raise e"
   ],
   "metadata": {
    "collapsed": false,
    "ExecuteTime": {
     "end_time": "2024-07-09T09:26:06.909579Z",
     "start_time": "2024-07-09T09:26:06.869074Z"
    }
   }
  },
  {
   "cell_type": "code",
   "execution_count": 24,
   "outputs": [],
   "source": [
    "from sklearn.model_selection import RandomizedSearchCV\n",
    "import numpy as np"
   ],
   "metadata": {
    "collapsed": false,
    "ExecuteTime": {
     "end_time": "2024-07-09T09:18:04.964520Z",
     "start_time": "2024-07-09T09:18:04.962863Z"
    }
   }
  },
  {
   "cell_type": "code",
   "execution_count": 25,
   "outputs": [],
   "source": [
    "X_train = pd.read_csv('artifacts/data_transformation/x_train.csv')\n",
    "y_train = pd.read_csv('artifacts/data_transformation/y_train.csv')\n",
    "X_val = pd.read_csv('artifacts/data_transformation/x_val.csv')\n",
    "y_val = pd.read_csv('artifacts/data_transformation/y_val.csv')\n",
    "\n",
    "y_train = np.array(y_train).ravel()\n",
    "y_val = np.array(y_val).ravel()"
   ],
   "metadata": {
    "collapsed": false,
    "ExecuteTime": {
     "end_time": "2024-07-09T09:18:05.338614Z",
     "start_time": "2024-07-09T09:18:05.331757Z"
    }
   }
  },
  {
   "cell_type": "code",
   "execution_count": 26,
   "outputs": [
    {
     "name": "stdout",
     "output_type": "stream",
     "text": [
      "Best SVC Score: 0.851669602818706\n",
      "Score of best SVC on val set: 0.825\n"
     ]
    }
   ],
   "source": [
    "svc = SVC(random_state=42)\n",
    "\n",
    "svc_params = {\n",
    "    'C' : [0.001, 0.01, 0.1, 1.0, 10, 100, 1000],\n",
    "    'gamma' : [0.001, 0.01, 0.1, 1.0, 10, 100, 1000]\n",
    "}\n",
    "\n",
    "svc_cv = RandomizedSearchCV(\n",
    "    estimator=svc,\n",
    "    param_distributions=svc_params,\n",
    "    cv=5,\n",
    "    scoring='accuracy'\n",
    ")\n",
    "\n",
    "svc_cv.fit(X_train, y_train)\n",
    "\n",
    "print('Best SVC Score:', svc_cv.best_score_)\n",
    "\n",
    "svc_best = SVC(**svc_cv.best_params_)\n",
    "svc_best.fit(X_train, y_train)\n",
    "svc_score = svc_best.score(X_val, y_val)\n",
    "\n",
    "print('Score of best SVC on val set:', svc_score)"
   ],
   "metadata": {
    "collapsed": false,
    "ExecuteTime": {
     "end_time": "2024-07-09T09:18:08.097073Z",
     "start_time": "2024-07-09T09:18:07.077702Z"
    }
   }
  },
  {
   "cell_type": "code",
   "execution_count": 27,
   "outputs": [
    {
     "data": {
      "text/plain": "{'gamma': 0.1, 'C': 10}"
     },
     "execution_count": 27,
     "metadata": {},
     "output_type": "execute_result"
    }
   ],
   "source": [
    "svc_cv.best_params_"
   ],
   "metadata": {
    "collapsed": false,
    "ExecuteTime": {
     "end_time": "2024-07-09T09:18:24.096323Z",
     "start_time": "2024-07-09T09:18:24.091419Z"
    }
   }
  },
  {
   "cell_type": "code",
   "execution_count": null,
   "outputs": [],
   "source": [],
   "metadata": {
    "collapsed": false
   }
  }
 ],
 "metadata": {
  "kernelspec": {
   "display_name": "Python 3",
   "language": "python",
   "name": "python3"
  },
  "language_info": {
   "codemirror_mode": {
    "name": "ipython",
    "version": 2
   },
   "file_extension": ".py",
   "mimetype": "text/x-python",
   "name": "python",
   "nbconvert_exporter": "python",
   "pygments_lexer": "ipython2",
   "version": "2.7.6"
  }
 },
 "nbformat": 4,
 "nbformat_minor": 0
}
