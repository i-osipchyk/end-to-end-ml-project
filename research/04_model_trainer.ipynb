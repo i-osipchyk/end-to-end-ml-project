{
 "cells": [
  {
   "cell_type": "code",
   "execution_count": 1,
   "metadata": {
    "collapsed": true,
    "ExecuteTime": {
     "end_time": "2024-07-09T08:44:22.355918Z",
     "start_time": "2024-07-09T08:44:22.353346Z"
    }
   },
   "outputs": [],
   "source": [
    "import os"
   ]
  },
  {
   "cell_type": "code",
   "execution_count": 2,
   "outputs": [],
   "source": [
    "os.chdir('../')"
   ],
   "metadata": {
    "collapsed": false,
    "ExecuteTime": {
     "end_time": "2024-07-09T08:44:28.894378Z",
     "start_time": "2024-07-09T08:44:28.892154Z"
    }
   }
  },
  {
   "cell_type": "code",
   "execution_count": 28,
   "outputs": [],
   "source": [
    "from dataclasses import dataclass\n",
    "from pathlib import Path\n",
    "\n",
    "@dataclass(frozen=True)\n",
    "class ModelTrainerConfig:\n",
    "    root_dir: Path\n",
    "    data_path: Path\n",
    "    model_name: str\n",
    "    gamma: float\n",
    "    C: float"
   ],
   "metadata": {
    "collapsed": false,
    "ExecuteTime": {
     "end_time": "2024-07-09T09:26:03.706345Z",
     "start_time": "2024-07-09T09:26:03.703449Z"
    }
   }
  },
  {
   "cell_type": "code",
   "execution_count": 29,
   "outputs": [],
   "source": [
    "from mlProject.constants import *\n",
    "from mlProject.utils.common import read_yaml, create_directories"
   ],
   "metadata": {
    "collapsed": false,
    "ExecuteTime": {
     "end_time": "2024-07-09T09:26:04.067348Z",
     "start_time": "2024-07-09T09:26:04.063080Z"
    }
   }
  },
  {
   "cell_type": "code",
   "execution_count": 30,
   "outputs": [],
   "source": [
    "class ConfigurationManager:\n",
    "    def __init__(\n",
    "            self,\n",
    "            config_filepath = CONFIG_FILE_PATH,\n",
    "            params_filepath = PARAMS_FILE_PATH,\n",
    "            schema_filepath = SCHEMA_FILE_PATH):\n",
    "\n",
    "        self.config = read_yaml(config_filepath)\n",
    "        self.params = read_yaml(params_filepath)\n",
    "        self.schema = read_yaml(schema_filepath)\n",
    "\n",
    "        create_directories([self.config.artifacts_root])\n",
    "\n",
    "    def get_model_trainer_config(self) -> ModelTrainerConfig:\n",
    "        config = self.config.model_trainer\n",
    "        params = self.params.SVC\n",
    "\n",
    "        create_directories([config.root_dir])\n",
    "\n",
    "        model_trainer_config = ModelTrainerConfig(\n",
    "            root_dir=config.root_dir,\n",
    "            data_path=config.data_path,\n",
    "            model_name=config.model_name,\n",
    "            gamma=params.gamma,\n",
    "            C=params.C\n",
    "        )\n",
    "\n",
    "        return model_trainer_config"
   ],
   "metadata": {
    "collapsed": false,
    "ExecuteTime": {
     "end_time": "2024-07-09T09:26:04.421510Z",
     "start_time": "2024-07-09T09:26:04.416222Z"
    }
   }
  },
  {
   "cell_type": "code",
   "execution_count": 31,
   "outputs": [],
   "source": [
    "import pandas as pd\n",
    "import os\n",
    "import joblib\n",
    "from sklearn.svm import SVC"
   ],
   "metadata": {
    "collapsed": false,
    "ExecuteTime": {
     "end_time": "2024-07-09T09:26:04.855430Z",
     "start_time": "2024-07-09T09:26:04.852962Z"
    }
   }
  },
  {
   "cell_type": "code",
   "execution_count": 32,
   "outputs": [],
   "source": [
    "class ModelTrainer:\n",
    "    def __init__(self, config: ModelTrainerConfig):\n",
    "        self.config = config\n",
    "\n",
    "    def train(self):\n",
    "        X_train = pd.read_csv(os.path.join(self.config.data_path, 'x_train.csv'))\n",
    "        y_train = pd.read_csv(os.path.join(self.config.data_path, 'y_train.csv'))\n",
    "\n",
    "        svc = SVC(gamma=0.1, C=10, random_state=42)\n",
    "\n",
    "        svc.fit(X_train, y_train)\n",
    "        joblib.dump(\n",
    "            svc,\n",
    "            os.path.join(\n",
    "                self.config.root_dir,\n",
    "                self.config.model_name\n",
    "            )\n",
    "        )"
   ],
   "metadata": {
    "collapsed": false,
    "ExecuteTime": {
     "end_time": "2024-07-09T09:26:05.311064Z",
     "start_time": "2024-07-09T09:26:05.308326Z"
    }
   }
  },
  {
   "cell_type": "code",
   "execution_count": 33,
   "outputs": [
    {
     "name": "stdout",
     "output_type": "stream",
     "text": [
      "[2024-07-09 11:26:06,869: INFO: common: yaml file: config/config.yaml loaded successfully]\n",
      "[2024-07-09 11:26:06,871: INFO: common: yaml file: params.yaml loaded successfully]\n",
      "[2024-07-09 11:26:06,873: INFO: common: yaml file: schema.yaml loaded successfully]\n",
      "[2024-07-09 11:26:06,874: INFO: common: created directory at: artifacts]\n",
      "[2024-07-09 11:26:06,875: INFO: common: created directory at: artifacts/model_training]\n"
     ]
    },
    {
     "name": "stderr",
     "output_type": "stream",
     "text": [
      "/Users/ivanosipchyk/dev/studies/end-to-end-ml-project/venv/lib/python3.11/site-packages/sklearn/utils/validation.py:1339: DataConversionWarning: A column-vector y was passed when a 1d array was expected. Please change the shape of y to (n_samples, ), for example using ravel().\n",
      "  y = column_or_1d(y, warn=True)\n"
     ]
    }
   ],
   "source": [
    "try:\n",
    "    config = ConfigurationManager()\n",
    "    model_trainer_config = config.get_model_trainer_config()\n",
    "    model_trainer = ModelTrainer(config=model_trainer_config)\n",
    "    model_trainer.train()\n",
    "except Exception as e:\n",
    "    raise e"
   ],
   "metadata": {
    "collapsed": false,
    "ExecuteTime": {
     "end_time": "2024-07-09T09:26:06.909579Z",
     "start_time": "2024-07-09T09:26:06.869074Z"
    }
   }
  },
  {
   "cell_type": "code",
   "execution_count": 24,
   "outputs": [],
   "source": [
    "from sklearn.model_selection import RandomizedSearchCV\n",
    "import numpy as np"
   ],
   "metadata": {
    "collapsed": false,
    "ExecuteTime": {
     "end_time": "2024-07-09T09:18:04.964520Z",
     "start_time": "2024-07-09T09:18:04.962863Z"
    }
   }
  },
  {
   "cell_type": "code",
   "execution_count": 25,
   "outputs": [],
   "source": [
    "X_train = pd.read_csv('artifacts/data_transformation/x_train.csv')\n",
    "y_train = pd.read_csv('artifacts/data_transformation/y_train.csv')\n",
    "X_val = pd.read_csv('artifacts/data_transformation/x_val.csv')\n",
    "y_val = pd.read_csv('artifacts/data_transformation/y_val.csv')\n",
    "\n",
    "y_train = np.array(y_train).ravel()\n",
    "y_val = np.array(y_val).ravel()"
   ],
   "metadata": {
    "collapsed": false,
    "ExecuteTime": {
     "end_time": "2024-07-09T09:18:05.338614Z",
     "start_time": "2024-07-09T09:18:05.331757Z"
    }
   }
  },
  {
   "cell_type": "code",
   "execution_count": 26,
   "outputs": [
    {
     "name": "stdout",
     "output_type": "stream",
     "text": [
      "Best SVC Score: 0.851669602818706\n",
      "Score of best SVC on val set: 0.825\n"
     ]
    }
   ],
   "source": [
    "svc = SVC(random_state=42)\n",
    "\n",
    "svc_params = {\n",
    "    'C' : [0.001, 0.01, 0.1, 1.0, 10, 100, 1000],\n",
    "    'gamma' : [0.001, 0.01, 0.1, 1.0, 10, 100, 1000]\n",
    "}\n",
    "\n",
    "svc_cv = RandomizedSearchCV(\n",
    "    estimator=svc,\n",
    "    param_distributions=svc_params,\n",
    "    cv=5,\n",
    "    scoring='accuracy'\n",
    ")\n",
    "\n",
    "svc_cv.fit(X_train, y_train)\n",
    "\n",
    "print('Best SVC Score:', svc_cv.best_score_)\n",
    "\n",
    "svc_best = SVC(**svc_cv.best_params_)\n",
    "svc_best.fit(X_train, y_train)\n",
    "svc_score = svc_best.score(X_val, y_val)\n",
    "\n",
    "print('Score of best SVC on val set:', svc_score)"
   ],
   "metadata": {
    "collapsed": false,
    "ExecuteTime": {
     "end_time": "2024-07-09T09:18:08.097073Z",
     "start_time": "2024-07-09T09:18:07.077702Z"
    }
   }
  },
  {
   "cell_type": "code",
   "execution_count": 27,
   "outputs": [
    {
     "data": {
      "text/plain": "{'gamma': 0.1, 'C': 10}"
     },
     "execution_count": 27,
     "metadata": {},
     "output_type": "execute_result"
    }
   ],
   "source": [
    "svc_cv.best_params_"
   ],
   "metadata": {
    "collapsed": false,
    "ExecuteTime": {
     "end_time": "2024-07-09T09:18:24.096323Z",
     "start_time": "2024-07-09T09:18:24.091419Z"
    }
   }
  },
  {
   "cell_type": "code",
   "execution_count": 35,
   "outputs": [],
   "source": [
    "X_train = pd.read_csv(os.path.join('artifacts/data_transformation', 'x_train.csv'))"
   ],
   "metadata": {
    "collapsed": false,
    "ExecuteTime": {
     "end_time": "2024-07-09T11:38:15.204053Z",
     "start_time": "2024-07-09T11:38:15.196122Z"
    }
   }
  },
  {
   "cell_type": "code",
   "execution_count": 36,
   "outputs": [
    {
     "data": {
      "text/plain": "          0         1         2         3         4         5         6  \\\n0  0.974751  0.073984  0.913613 -0.071072 -0.434766  0.323024  0.122929   \n1 -0.157590 -0.889653 -0.215073 -0.727414 -0.189199  0.857895  0.414343   \n2 -0.221129  0.017299 -1.189847 -0.879309 -0.228836  0.411702 -0.238920   \n3 -0.483277 -0.209439 -0.009857 -0.315598 -0.434766  0.128647 -0.540727   \n4  2.034391 -0.436177  1.118828 -1.392036 -0.268971 -2.022343 -2.462870   \n\n          7         8         9        10  \n0  1.222737  0.507058 -0.147650 -0.998198  \n1 -0.237890 -0.212492  0.209527 -1.104971  \n2 -0.185725  0.114576 -0.614290 -0.379362  \n3 -1.500289  0.245404 -0.074077  1.455266  \n4  0.075101 -1.193697 -0.074077  0.013889  ",
      "text/html": "<div>\n<style scoped>\n    .dataframe tbody tr th:only-of-type {\n        vertical-align: middle;\n    }\n\n    .dataframe tbody tr th {\n        vertical-align: top;\n    }\n\n    .dataframe thead th {\n        text-align: right;\n    }\n</style>\n<table border=\"1\" class=\"dataframe\">\n  <thead>\n    <tr style=\"text-align: right;\">\n      <th></th>\n      <th>0</th>\n      <th>1</th>\n      <th>2</th>\n      <th>3</th>\n      <th>4</th>\n      <th>5</th>\n      <th>6</th>\n      <th>7</th>\n      <th>8</th>\n      <th>9</th>\n      <th>10</th>\n    </tr>\n  </thead>\n  <tbody>\n    <tr>\n      <th>0</th>\n      <td>0.974751</td>\n      <td>0.073984</td>\n      <td>0.913613</td>\n      <td>-0.071072</td>\n      <td>-0.434766</td>\n      <td>0.323024</td>\n      <td>0.122929</td>\n      <td>1.222737</td>\n      <td>0.507058</td>\n      <td>-0.147650</td>\n      <td>-0.998198</td>\n    </tr>\n    <tr>\n      <th>1</th>\n      <td>-0.157590</td>\n      <td>-0.889653</td>\n      <td>-0.215073</td>\n      <td>-0.727414</td>\n      <td>-0.189199</td>\n      <td>0.857895</td>\n      <td>0.414343</td>\n      <td>-0.237890</td>\n      <td>-0.212492</td>\n      <td>0.209527</td>\n      <td>-1.104971</td>\n    </tr>\n    <tr>\n      <th>2</th>\n      <td>-0.221129</td>\n      <td>0.017299</td>\n      <td>-1.189847</td>\n      <td>-0.879309</td>\n      <td>-0.228836</td>\n      <td>0.411702</td>\n      <td>-0.238920</td>\n      <td>-0.185725</td>\n      <td>0.114576</td>\n      <td>-0.614290</td>\n      <td>-0.379362</td>\n    </tr>\n    <tr>\n      <th>3</th>\n      <td>-0.483277</td>\n      <td>-0.209439</td>\n      <td>-0.009857</td>\n      <td>-0.315598</td>\n      <td>-0.434766</td>\n      <td>0.128647</td>\n      <td>-0.540727</td>\n      <td>-1.500289</td>\n      <td>0.245404</td>\n      <td>-0.074077</td>\n      <td>1.455266</td>\n    </tr>\n    <tr>\n      <th>4</th>\n      <td>2.034391</td>\n      <td>-0.436177</td>\n      <td>1.118828</td>\n      <td>-1.392036</td>\n      <td>-0.268971</td>\n      <td>-2.022343</td>\n      <td>-2.462870</td>\n      <td>0.075101</td>\n      <td>-1.193697</td>\n      <td>-0.074077</td>\n      <td>0.013889</td>\n    </tr>\n  </tbody>\n</table>\n</div>"
     },
     "execution_count": 36,
     "metadata": {},
     "output_type": "execute_result"
    }
   ],
   "source": [
    "X_train.head()"
   ],
   "metadata": {
    "collapsed": false,
    "ExecuteTime": {
     "end_time": "2024-07-09T11:38:20.204307Z",
     "start_time": "2024-07-09T11:38:20.191310Z"
    }
   }
  },
  {
   "cell_type": "code",
   "execution_count": 48,
   "outputs": [],
   "source": [
    "X_test = pd.read_csv(os.path.join('artifacts/data_transformation', 'x_test.csv'), skiprows=1, header=None)"
   ],
   "metadata": {
    "collapsed": false,
    "ExecuteTime": {
     "end_time": "2024-07-09T11:41:02.164439Z",
     "start_time": "2024-07-09T11:41:02.157666Z"
    }
   }
  },
  {
   "cell_type": "code",
   "execution_count": 49,
   "outputs": [
    {
     "data": {
      "text/plain": "         0      1     2         3         4         5         6        7   \\\n0  2.719067  0.615  0.66  1.837424 -2.340266  2.043721  4.109736  1.00220   \n1  2.473559  0.270  0.24  0.755871 -2.465357  2.899951  3.820764  0.99560   \n2  2.090022  0.735  0.00  0.804206 -2.372742  3.109664  3.625875  0.99765   \n3  2.232275  0.340  0.40  0.894913 -2.554798  3.444478  4.271245  0.99554   \n4  2.607519  0.440  0.64  0.755871 -2.639071  1.675968  2.899951  0.99800   \n\n     8         9         10  \n0  3.07 -0.312246  2.440369  \n1  3.22 -0.411227  2.719067  \n2  3.41 -0.504356  2.371051  \n3  3.34 -0.150254  2.547564  \n4  3.21 -0.396493  2.462599  ",
      "text/html": "<div>\n<style scoped>\n    .dataframe tbody tr th:only-of-type {\n        vertical-align: middle;\n    }\n\n    .dataframe tbody tr th {\n        vertical-align: top;\n    }\n\n    .dataframe thead th {\n        text-align: right;\n    }\n</style>\n<table border=\"1\" class=\"dataframe\">\n  <thead>\n    <tr style=\"text-align: right;\">\n      <th></th>\n      <th>0</th>\n      <th>1</th>\n      <th>2</th>\n      <th>3</th>\n      <th>4</th>\n      <th>5</th>\n      <th>6</th>\n      <th>7</th>\n      <th>8</th>\n      <th>9</th>\n      <th>10</th>\n    </tr>\n  </thead>\n  <tbody>\n    <tr>\n      <th>0</th>\n      <td>2.719067</td>\n      <td>0.615</td>\n      <td>0.66</td>\n      <td>1.837424</td>\n      <td>-2.340266</td>\n      <td>2.043721</td>\n      <td>4.109736</td>\n      <td>1.00220</td>\n      <td>3.07</td>\n      <td>-0.312246</td>\n      <td>2.440369</td>\n    </tr>\n    <tr>\n      <th>1</th>\n      <td>2.473559</td>\n      <td>0.270</td>\n      <td>0.24</td>\n      <td>0.755871</td>\n      <td>-2.465357</td>\n      <td>2.899951</td>\n      <td>3.820764</td>\n      <td>0.99560</td>\n      <td>3.22</td>\n      <td>-0.411227</td>\n      <td>2.719067</td>\n    </tr>\n    <tr>\n      <th>2</th>\n      <td>2.090022</td>\n      <td>0.735</td>\n      <td>0.00</td>\n      <td>0.804206</td>\n      <td>-2.372742</td>\n      <td>3.109664</td>\n      <td>3.625875</td>\n      <td>0.99765</td>\n      <td>3.41</td>\n      <td>-0.504356</td>\n      <td>2.371051</td>\n    </tr>\n    <tr>\n      <th>3</th>\n      <td>2.232275</td>\n      <td>0.340</td>\n      <td>0.40</td>\n      <td>0.894913</td>\n      <td>-2.554798</td>\n      <td>3.444478</td>\n      <td>4.271245</td>\n      <td>0.99554</td>\n      <td>3.34</td>\n      <td>-0.150254</td>\n      <td>2.547564</td>\n    </tr>\n    <tr>\n      <th>4</th>\n      <td>2.607519</td>\n      <td>0.440</td>\n      <td>0.64</td>\n      <td>0.755871</td>\n      <td>-2.639071</td>\n      <td>1.675968</td>\n      <td>2.899951</td>\n      <td>0.99800</td>\n      <td>3.21</td>\n      <td>-0.396493</td>\n      <td>2.462599</td>\n    </tr>\n  </tbody>\n</table>\n</div>"
     },
     "execution_count": 49,
     "metadata": {},
     "output_type": "execute_result"
    }
   ],
   "source": [
    "X_test.head()"
   ],
   "metadata": {
    "collapsed": false,
    "ExecuteTime": {
     "end_time": "2024-07-09T11:41:02.558826Z",
     "start_time": "2024-07-09T11:41:02.556534Z"
    }
   }
  },
  {
   "cell_type": "code",
   "execution_count": null,
   "outputs": [],
   "source": [],
   "metadata": {
    "collapsed": false
   }
  }
 ],
 "metadata": {
  "kernelspec": {
   "display_name": "Python 3",
   "language": "python",
   "name": "python3"
  },
  "language_info": {
   "codemirror_mode": {
    "name": "ipython",
    "version": 2
   },
   "file_extension": ".py",
   "mimetype": "text/x-python",
   "name": "python",
   "nbconvert_exporter": "python",
   "pygments_lexer": "ipython2",
   "version": "2.7.6"
  }
 },
 "nbformat": 4,
 "nbformat_minor": 0
}
