{
 "cells": [
  {
   "cell_type": "code",
   "execution_count": 1,
   "metadata": {
    "collapsed": true,
    "ExecuteTime": {
     "end_time": "2024-07-05T10:43:42.277296Z",
     "start_time": "2024-07-05T10:43:42.275517Z"
    }
   },
   "outputs": [],
   "source": [
    "import os"
   ]
  },
  {
   "cell_type": "code",
   "execution_count": 2,
   "outputs": [
    {
     "name": "stdout",
     "output_type": "stream",
     "text": [
      "/Users/ivanosipchyk/dev/studies/end-to-end-ml-project/research\r\n"
     ]
    }
   ],
   "source": [
    "!pwd"
   ],
   "metadata": {
    "collapsed": false,
    "ExecuteTime": {
     "end_time": "2024-07-05T10:43:46.261334Z",
     "start_time": "2024-07-05T10:43:46.137271Z"
    }
   }
  },
  {
   "cell_type": "code",
   "execution_count": 3,
   "outputs": [],
   "source": [
    "os.chdir(\"../\")"
   ],
   "metadata": {
    "collapsed": false,
    "ExecuteTime": {
     "end_time": "2024-07-05T10:43:54.117972Z",
     "start_time": "2024-07-05T10:43:54.099877Z"
    }
   }
  },
  {
   "cell_type": "code",
   "execution_count": 4,
   "outputs": [
    {
     "name": "stdout",
     "output_type": "stream",
     "text": [
      "/Users/ivanosipchyk/dev/studies/end-to-end-ml-project\r\n"
     ]
    }
   ],
   "source": [
    "!pwd"
   ],
   "metadata": {
    "collapsed": false,
    "ExecuteTime": {
     "end_time": "2024-07-05T10:43:57.015704Z",
     "start_time": "2024-07-05T10:43:56.897129Z"
    }
   }
  },
  {
   "cell_type": "code",
   "execution_count": 5,
   "outputs": [],
   "source": [
    "from dataclasses import dataclass\n",
    "from pathlib import Path"
   ],
   "metadata": {
    "collapsed": false,
    "ExecuteTime": {
     "end_time": "2024-07-05T10:55:18.178423Z",
     "start_time": "2024-07-05T10:55:18.175279Z"
    }
   }
  },
  {
   "cell_type": "code",
   "execution_count": 6,
   "outputs": [],
   "source": [
    "@dataclass\n",
    "class DataTransformationConfig:\n",
    "    root_dir: Path\n",
    "    data_path: Path"
   ],
   "metadata": {
    "collapsed": false,
    "ExecuteTime": {
     "end_time": "2024-07-05T10:59:23.074951Z",
     "start_time": "2024-07-05T10:59:23.071626Z"
    }
   }
  },
  {
   "cell_type": "code",
   "execution_count": 7,
   "outputs": [],
   "source": [
    "from mlProject.constants import *\n",
    "from mlProject.utils.common import read_yaml, create_directories"
   ],
   "metadata": {
    "collapsed": false,
    "ExecuteTime": {
     "end_time": "2024-07-05T11:00:17.528303Z",
     "start_time": "2024-07-05T11:00:17.336407Z"
    }
   }
  },
  {
   "cell_type": "code",
   "execution_count": 23,
   "outputs": [],
   "source": [
    "class ConfigurationManager:\n",
    "    def __init__(\n",
    "            self,\n",
    "            config_filepath=CONFIG_FILE_PATH,\n",
    "            params_filepath=PARAMS_FILE_PATH,\n",
    "            schema_filepath=SCHEMA_FILE_PATH):\n",
    "\n",
    "        self.config = read_yaml(config_filepath)\n",
    "        self.params = read_yaml(params_filepath)\n",
    "        self.schema = read_yaml(schema_filepath)\n",
    "\n",
    "        create_directories([self.config.artifacts_root])\n",
    "\n",
    "    def get_data_transformation_config(self) -> DataTransformationConfig:\n",
    "        config = self.config.data_transformation\n",
    "\n",
    "        create_directories([config.root_dir])\n",
    "\n",
    "        data_transformation_config = DataTransformationConfig(\n",
    "            root_dir=config.root_dir,\n",
    "            data_path=config.data_path\n",
    "        )\n",
    "\n",
    "        return data_transformation_config"
   ],
   "metadata": {
    "collapsed": false,
    "ExecuteTime": {
     "end_time": "2024-07-05T14:50:33.515522Z",
     "start_time": "2024-07-05T14:50:33.503398Z"
    }
   }
  },
  {
   "cell_type": "code",
   "execution_count": 24,
   "outputs": [],
   "source": [
    "from mlProject import logger\n",
    "from sklearn.model_selection import train_test_split\n",
    "import pandas as pd"
   ],
   "metadata": {
    "collapsed": false,
    "ExecuteTime": {
     "end_time": "2024-07-05T14:50:34.088499Z",
     "start_time": "2024-07-05T14:50:34.073599Z"
    }
   }
  },
  {
   "cell_type": "code",
   "execution_count": 65,
   "outputs": [],
   "source": [
    "from scipy.special import boxcox\n",
    "from sklearn.preprocessing import StandardScaler\n",
    "from imblearn.over_sampling import SMOTE\n",
    "import joblib\n",
    "\n",
    "class DataTransformation:\n",
    "    def __init__(self, config: DataTransformationConfig):\n",
    "        self.config = config\n",
    "        self.skewed_columns = ['chlorides', 'residual sugar', 'sulphates', 'total sulfur dioxide', 'free sulfur dioxide', 'fixed acidity', 'alcohol']\n",
    "        self.boxcox_lambda = 0.05\n",
    "        self.scaler = StandardScaler()\n",
    "        self.oversampler = SMOTE(random_state=42)\n",
    "\n",
    "    def read_data(self) -> pd.DataFrame:\n",
    "        logger.info(\"Reading the data\")\n",
    "        data = pd.read_csv(self.config.data_path)\n",
    "        logger.info(\"Data was read successfully\")\n",
    "        return data\n",
    "\n",
    "    def remove_skewness(self, data: pd.DataFrame) -> pd.DataFrame:\n",
    "\n",
    "        logger.info(\"Removing skewness\")\n",
    "\n",
    "        for column in self.skewed_columns:\n",
    "            data[column] = boxcox(data[column]+1e-6, self.boxcox_lambda)\n",
    "\n",
    "        logger.info(\"Removing skewness finished\")\n",
    "\n",
    "        return data\n",
    "\n",
    "    def train_test_split(self, data: pd.DataFrame) -> dict:\n",
    "\n",
    "        logger.info(\"Splitting the data into train, val and test sets\")\n",
    "\n",
    "        x_train, x_temp, y_train, y_temp = train_test_split(\n",
    "            data.drop('quality', axis=1), data['quality'],\n",
    "            shuffle=True,\n",
    "            stratify=data['quality'],\n",
    "            test_size=0.3,\n",
    "            random_state=42\n",
    "        )\n",
    "\n",
    "        x_val, x_test, y_val, y_test = train_test_split(\n",
    "            x_temp, y_temp,\n",
    "            shuffle=True,\n",
    "            stratify=y_temp,\n",
    "            test_size=0.5,\n",
    "            random_state=42\n",
    "        )\n",
    "\n",
    "        logger.info(\"Splitting finished\")\n",
    "\n",
    "        return {\n",
    "            'x_train': x_train,\n",
    "            'x_val': x_val,\n",
    "            'x_test': x_test,\n",
    "            'y_train': y_train,\n",
    "            'y_val': y_val,\n",
    "            'y_test': y_test\n",
    "        }\n",
    "\n",
    "    def scale_data(self, data_dict: dict) -> dict:\n",
    "\n",
    "        logger.info(\"Performing feature scaling\")\n",
    "\n",
    "        self.scaler.fit(data_dict['x_train'])\n",
    "        data_dict['x_train'] = self.scaler.transform(data_dict['x_train'])\n",
    "        data_dict['x_val'] = self.scaler.transform(data_dict['x_val'])\n",
    "        data_dict['x_val'] = self.scaler.transform(data_dict['x_val'])\n",
    "\n",
    "        logger.info(\"Feature scaling finished. Saving scaler\")\n",
    "        joblib.dump(self.scaler, os.path.join(self.config.root_dir, \"scaler.pkl\"))\n",
    "\n",
    "        return data_dict\n",
    "\n",
    "    def oversample(self, data_dict: dict) -> dict:\n",
    "        logger.info(f\"Current number of train samples: {data_dict['x_train'].shape[0]}. Performing oversampling\")\n",
    "\n",
    "        data_dict['x_train'], data_dict['y_train'] = self.oversampler.fit_resample(data_dict['x_train'], data_dict['y_train'])\n",
    "\n",
    "        logger.info(f\"Oversampling finished. New number of train samples: {data_dict['x_train'].shape[0]}\")\n",
    "\n",
    "        return data_dict\n",
    "\n",
    "    def save_data(self, data_dict: dict):\n",
    "        for key, value in data_dict.items():\n",
    "            pd.DataFrame(value).to_csv(os.path.join(self.config.root_dir, f\"{key}.csv\"), index=False)\n",
    "\n",
    "\n",
    "        logger.info(\"Split data into train, val and test sets\")\n",
    "\n",
    "    def transform_data(self):\n",
    "        data = self.read_data()\n",
    "        data = self.remove_skewness(data)\n",
    "        data_dict = self.train_test_split(data)\n",
    "        data_dict = self.scale_data(data_dict)\n",
    "        data_dict = self.oversample(data_dict)\n",
    "        self.save_data(data_dict)"
   ],
   "metadata": {
    "collapsed": false,
    "ExecuteTime": {
     "end_time": "2024-07-05T15:13:56.755654Z",
     "start_time": "2024-07-05T15:13:56.749059Z"
    }
   }
  },
  {
   "cell_type": "code",
   "execution_count": 66,
   "outputs": [
    {
     "name": "stdout",
     "output_type": "stream",
     "text": [
      "[2024-07-05 17:14:05,917: INFO: common: yaml file: config/config.yaml loaded successfully]\n",
      "[2024-07-05 17:14:05,919: INFO: common: yaml file: params.yaml loaded successfully]\n",
      "[2024-07-05 17:14:05,921: INFO: common: yaml file: schema.yaml loaded successfully]\n",
      "[2024-07-05 17:14:05,921: INFO: common: created directory at: artifacts]\n",
      "[2024-07-05 17:14:05,922: INFO: common: created directory at: artifacts/data_transformation]\n",
      "[2024-07-05 17:14:05,922: INFO: 3098272237: Reading the data]\n",
      "[2024-07-05 17:14:05,927: INFO: 3098272237: Data was read successfully]\n",
      "[2024-07-05 17:14:05,927: INFO: 3098272237: Removing skewness]\n",
      "[2024-07-05 17:14:05,930: INFO: 3098272237: Removing skewness finished]\n",
      "[2024-07-05 17:14:05,930: INFO: 3098272237: Splitting the data into train, val and test sets]\n",
      "[2024-07-05 17:14:05,935: INFO: 3098272237: Splitting finished]\n",
      "[2024-07-05 17:14:05,935: INFO: 3098272237: Performing feature scaling]\n",
      "[2024-07-05 17:14:05,938: INFO: 3098272237: Feature scaling finished. Saving scaler]\n",
      "[2024-07-05 17:14:05,940: INFO: 3098272237: Current number of train samples: 1119. Performing oversampling]\n",
      "[2024-07-05 17:14:05,947: INFO: 3098272237: Oversampling finished. New number of train samples: 2862]\n",
      "[2024-07-05 17:14:05,979: INFO: 3098272237: Split data into train, val and test sets]\n"
     ]
    },
    {
     "name": "stderr",
     "output_type": "stream",
     "text": [
      "/Users/ivanosipchyk/dev/studies/end-to-end-ml-project/venv/lib/python3.11/site-packages/sklearn/base.py:493: UserWarning: X does not have valid feature names, but StandardScaler was fitted with feature names\n",
      "  warnings.warn(\n"
     ]
    }
   ],
   "source": [
    "try:\n",
    "    config = ConfigurationManager()\n",
    "    data_transformation_config = config.get_data_transformation_config()\n",
    "    data_transformation = DataTransformation(config=data_transformation_config)\n",
    "    data_transformation.transform_data()\n",
    "except Exception as e:\n",
    "    raise e"
   ],
   "metadata": {
    "collapsed": false,
    "ExecuteTime": {
     "end_time": "2024-07-05T15:14:05.989084Z",
     "start_time": "2024-07-05T15:14:05.917605Z"
    }
   }
  },
  {
   "cell_type": "code",
   "execution_count": null,
   "outputs": [],
   "source": [],
   "metadata": {
    "collapsed": false
   }
  }
 ],
 "metadata": {
  "kernelspec": {
   "display_name": "Python 3",
   "language": "python",
   "name": "python3"
  },
  "language_info": {
   "codemirror_mode": {
    "name": "ipython",
    "version": 2
   },
   "file_extension": ".py",
   "mimetype": "text/x-python",
   "name": "python",
   "nbconvert_exporter": "python",
   "pygments_lexer": "ipython2",
   "version": "2.7.6"
  }
 },
 "nbformat": 4,
 "nbformat_minor": 0
}
