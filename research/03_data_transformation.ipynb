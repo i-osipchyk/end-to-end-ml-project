{
 "cells": [
  {
   "cell_type": "code",
   "execution_count": 2,
   "metadata": {
    "collapsed": true,
    "ExecuteTime": {
     "end_time": "2024-07-09T08:51:45.519959Z",
     "start_time": "2024-07-09T08:51:45.516486Z"
    }
   },
   "outputs": [],
   "source": [
    "import os"
   ]
  },
  {
   "cell_type": "code",
   "execution_count": 3,
   "outputs": [
    {
     "name": "stdout",
     "output_type": "stream",
     "text": [
      "/Users/ivanosipchyk/dev/studies/end-to-end-ml-project/research\r\n"
     ]
    }
   ],
   "source": [
    "!pwd"
   ],
   "metadata": {
    "collapsed": false,
    "ExecuteTime": {
     "end_time": "2024-07-09T08:51:46.183122Z",
     "start_time": "2024-07-09T08:51:46.044354Z"
    }
   }
  },
  {
   "cell_type": "code",
   "execution_count": 4,
   "outputs": [],
   "source": [
    "os.chdir(\"../\")"
   ],
   "metadata": {
    "collapsed": false,
    "ExecuteTime": {
     "end_time": "2024-07-09T08:51:46.703747Z",
     "start_time": "2024-07-09T08:51:46.700828Z"
    }
   }
  },
  {
   "cell_type": "code",
   "execution_count": 5,
   "outputs": [
    {
     "name": "stdout",
     "output_type": "stream",
     "text": [
      "/Users/ivanosipchyk/dev/studies/end-to-end-ml-project\r\n"
     ]
    }
   ],
   "source": [
    "!pwd"
   ],
   "metadata": {
    "collapsed": false,
    "ExecuteTime": {
     "end_time": "2024-07-09T08:51:47.224413Z",
     "start_time": "2024-07-09T08:51:47.096498Z"
    }
   }
  },
  {
   "cell_type": "code",
   "execution_count": 6,
   "outputs": [],
   "source": [
    "from dataclasses import dataclass\n",
    "from pathlib import Path"
   ],
   "metadata": {
    "collapsed": false,
    "ExecuteTime": {
     "end_time": "2024-07-09T08:51:47.507432Z",
     "start_time": "2024-07-09T08:51:47.502306Z"
    }
   }
  },
  {
   "cell_type": "code",
   "execution_count": 7,
   "outputs": [],
   "source": [
    "@dataclass\n",
    "class DataTransformationConfig:\n",
    "    root_dir: Path\n",
    "    data_path: Path"
   ],
   "metadata": {
    "collapsed": false,
    "ExecuteTime": {
     "end_time": "2024-07-09T08:51:47.879960Z",
     "start_time": "2024-07-09T08:51:47.875550Z"
    }
   }
  },
  {
   "cell_type": "code",
   "execution_count": 8,
   "outputs": [],
   "source": [
    "from mlProject.constants import *\n",
    "from mlProject.utils.common import read_yaml, create_directories"
   ],
   "metadata": {
    "collapsed": false,
    "ExecuteTime": {
     "end_time": "2024-07-09T08:51:48.326773Z",
     "start_time": "2024-07-09T08:51:48.242514Z"
    }
   }
  },
  {
   "cell_type": "code",
   "execution_count": 9,
   "outputs": [],
   "source": [
    "class ConfigurationManager:\n",
    "    def __init__(\n",
    "            self,\n",
    "            config_filepath=CONFIG_FILE_PATH,\n",
    "            params_filepath=PARAMS_FILE_PATH,\n",
    "            schema_filepath=SCHEMA_FILE_PATH):\n",
    "\n",
    "        self.config = read_yaml(config_filepath)\n",
    "        self.params = read_yaml(params_filepath)\n",
    "        self.schema = read_yaml(schema_filepath)\n",
    "\n",
    "        create_directories([self.config.artifacts_root])\n",
    "\n",
    "    def get_data_transformation_config(self) -> DataTransformationConfig:\n",
    "        config = self.config.data_transformation\n",
    "\n",
    "        create_directories([config.root_dir])\n",
    "\n",
    "        data_transformation_config = DataTransformationConfig(\n",
    "            root_dir=config.root_dir,\n",
    "            data_path=config.data_path\n",
    "        )\n",
    "\n",
    "        return data_transformation_config"
   ],
   "metadata": {
    "collapsed": false,
    "ExecuteTime": {
     "end_time": "2024-07-09T08:51:48.603583Z",
     "start_time": "2024-07-09T08:51:48.601459Z"
    }
   }
  },
  {
   "cell_type": "code",
   "execution_count": 10,
   "outputs": [],
   "source": [
    "from mlProject import logger\n",
    "from sklearn.model_selection import train_test_split\n",
    "import pandas as pd"
   ],
   "metadata": {
    "collapsed": false,
    "ExecuteTime": {
     "end_time": "2024-07-09T08:51:49.587877Z",
     "start_time": "2024-07-09T08:51:49.054610Z"
    }
   }
  },
  {
   "cell_type": "code",
   "execution_count": 13,
   "outputs": [],
   "source": [
    "from scipy.special import boxcox\n",
    "from sklearn.preprocessing import StandardScaler, LabelEncoder\n",
    "from imblearn.over_sampling import SMOTE\n",
    "import joblib\n",
    "import numpy as np\n",
    "\n",
    "class DataTransformation:\n",
    "    def __init__(self, config: DataTransformationConfig):\n",
    "        self.config = config\n",
    "        self.skewed_columns = ['chlorides', 'residual sugar', 'sulphates', 'total sulfur dioxide', 'free sulfur dioxide', 'fixed acidity', 'alcohol']\n",
    "        self.boxcox_lambda = 0.05\n",
    "        self.scaler = StandardScaler()\n",
    "        self.oversampler = SMOTE(random_state=42)\n",
    "        self.target = 'quality'\n",
    "\n",
    "    def read_data(self) -> pd.DataFrame:\n",
    "        logger.info(\"Reading the data\")\n",
    "        data = pd.read_csv(self.config.data_path)\n",
    "        logger.info(\"Data was read successfully\")\n",
    "        return data\n",
    "\n",
    "    def remove_skewness(self, data: pd.DataFrame) -> pd.DataFrame:\n",
    "\n",
    "        logger.info(\"Removing skewness\")\n",
    "\n",
    "        for column in self.skewed_columns:\n",
    "            data[column] = boxcox(data[column]+1e-6, self.boxcox_lambda)\n",
    "\n",
    "        logger.info(\"Removing skewness finished\")\n",
    "\n",
    "        return data\n",
    "\n",
    "    def encode_labels(self, data: pd.DataFrame) -> pd.DataFrame:\n",
    "\n",
    "        label_mapping = {\n",
    "            3: 'bad',\n",
    "            4: 'bad',\n",
    "            5: 'fair',\n",
    "            6: 'fair',\n",
    "            7: 'good',\n",
    "            8: 'good'\n",
    "        }\n",
    "\n",
    "        data[self.target] = data[self.target].map(label_mapping)\n",
    "\n",
    "        encoder = LabelEncoder()\n",
    "        data[self.target] = encoder.fit_transform(data[self.target])\n",
    "\n",
    "        return data\n",
    "\n",
    "    def train_test_split(self, data: pd.DataFrame) -> dict:\n",
    "\n",
    "        logger.info(\"Splitting the data into train, val and test sets\")\n",
    "\n",
    "        x_train, x_temp, y_train, y_temp = train_test_split(\n",
    "            data.drop('quality', axis=1), data['quality'],\n",
    "            shuffle=True,\n",
    "            stratify=data['quality'],\n",
    "            test_size=0.3,\n",
    "            random_state=42\n",
    "        )\n",
    "\n",
    "        x_val, x_test, y_val, y_test = train_test_split(\n",
    "            x_temp, y_temp,\n",
    "            shuffle=True,\n",
    "            stratify=y_temp,\n",
    "            test_size=0.5,\n",
    "            random_state=42\n",
    "        )\n",
    "\n",
    "        logger.info(\"Splitting finished\")\n",
    "\n",
    "        return {\n",
    "            'x_train': x_train,\n",
    "            'x_val': x_val,\n",
    "            'x_test': x_test,\n",
    "            'y_train': y_train,\n",
    "            'y_val': y_val,\n",
    "            'y_test': y_test\n",
    "        }\n",
    "\n",
    "    def scale_data(self, data_dict: dict) -> dict:\n",
    "\n",
    "        logger.info(\"Performing feature scaling\")\n",
    "\n",
    "        self.scaler.fit(data_dict['x_train'])\n",
    "        data_dict['x_train'] = self.scaler.transform(data_dict['x_train'])\n",
    "        data_dict['x_val'] = self.scaler.transform(data_dict['x_val'])\n",
    "        data_dict['x_val'] = self.scaler.transform(data_dict['x_val'])\n",
    "\n",
    "        logger.info(\"Feature scaling finished. Saving scaler\")\n",
    "        joblib.dump(self.scaler, os.path.join(self.config.root_dir, \"scaler.pkl\"))\n",
    "\n",
    "        return data_dict\n",
    "\n",
    "    def oversample(self, data_dict: dict) -> dict:\n",
    "        logger.info(f\"Current number of train samples: {data_dict['x_train'].shape[0]}. Performing oversampling\")\n",
    "\n",
    "        data_dict['x_train'], data_dict['y_train'] = self.oversampler.fit_resample(data_dict['x_train'], data_dict['y_train'])\n",
    "\n",
    "        logger.info(f\"Oversampling finished. New number of train samples: {data_dict['x_train'].shape[0]}\")\n",
    "\n",
    "        return data_dict\n",
    "\n",
    "    def save_data(self, data_dict: dict):\n",
    "        for key, value in data_dict.items():\n",
    "            pd.DataFrame(value).to_csv(os.path.join(self.config.root_dir, f\"{key}.csv\"), index=False)\n",
    "\n",
    "\n",
    "        logger.info(\"Split data into train, val and test sets\")\n",
    "\n",
    "    def transform_data(self):\n",
    "        data = self.read_data()\n",
    "        data = self.remove_skewness(data)\n",
    "        data = self.encode_labels(data)\n",
    "        data_dict = self.train_test_split(data)\n",
    "        data_dict = self.scale_data(data_dict)\n",
    "        # data_dict = self.oversample(data_dict)\n",
    "        self.save_data(data_dict)"
   ],
   "metadata": {
    "collapsed": false,
    "ExecuteTime": {
     "end_time": "2024-07-09T08:52:40.275810Z",
     "start_time": "2024-07-09T08:52:40.271029Z"
    }
   }
  },
  {
   "cell_type": "code",
   "execution_count": 14,
   "outputs": [
    {
     "name": "stdout",
     "output_type": "stream",
     "text": [
      "[2024-07-09 10:52:41,101: INFO: common: yaml file: config/config.yaml loaded successfully]\n",
      "[2024-07-09 10:52:41,102: INFO: common: yaml file: params.yaml loaded successfully]\n",
      "[2024-07-09 10:52:41,104: INFO: common: yaml file: schema.yaml loaded successfully]\n",
      "[2024-07-09 10:52:41,105: INFO: common: created directory at: artifacts]\n",
      "[2024-07-09 10:52:41,106: INFO: common: created directory at: artifacts/data_transformation]\n",
      "[2024-07-09 10:52:41,106: INFO: 4246496269: Reading the data]\n",
      "[2024-07-09 10:52:41,110: INFO: 4246496269: Data was read successfully]\n",
      "[2024-07-09 10:52:41,110: INFO: 4246496269: Removing skewness]\n",
      "[2024-07-09 10:52:41,112: INFO: 4246496269: Removing skewness finished]\n",
      "[2024-07-09 10:52:41,113: INFO: 4246496269: Splitting the data into train, val and test sets]\n",
      "[2024-07-09 10:52:41,116: INFO: 4246496269: Splitting finished]\n",
      "[2024-07-09 10:52:41,117: INFO: 4246496269: Performing feature scaling]\n",
      "[2024-07-09 10:52:41,121: INFO: 4246496269: Feature scaling finished. Saving scaler]\n",
      "[2024-07-09 10:52:41,135: INFO: 4246496269: Split data into train, val and test sets]\n"
     ]
    },
    {
     "name": "stderr",
     "output_type": "stream",
     "text": [
      "/Users/ivanosipchyk/dev/studies/end-to-end-ml-project/venv/lib/python3.11/site-packages/sklearn/base.py:493: UserWarning: X does not have valid feature names, but StandardScaler was fitted with feature names\n",
      "  warnings.warn(\n"
     ]
    }
   ],
   "source": [
    "try:\n",
    "    config = ConfigurationManager()\n",
    "    data_transformation_config = config.get_data_transformation_config()\n",
    "    data_transformation = DataTransformation(config=data_transformation_config)\n",
    "    data_transformation.transform_data()\n",
    "except Exception as e:\n",
    "    raise e"
   ],
   "metadata": {
    "collapsed": false,
    "ExecuteTime": {
     "end_time": "2024-07-09T08:52:41.138686Z",
     "start_time": "2024-07-09T08:52:41.100340Z"
    }
   }
  },
  {
   "cell_type": "code",
   "execution_count": null,
   "outputs": [],
   "source": [],
   "metadata": {
    "collapsed": false
   }
  }
 ],
 "metadata": {
  "kernelspec": {
   "display_name": "Python 3",
   "language": "python",
   "name": "python3"
  },
  "language_info": {
   "codemirror_mode": {
    "name": "ipython",
    "version": 2
   },
   "file_extension": ".py",
   "mimetype": "text/x-python",
   "name": "python",
   "nbconvert_exporter": "python",
   "pygments_lexer": "ipython2",
   "version": "2.7.6"
  }
 },
 "nbformat": 4,
 "nbformat_minor": 0
}
